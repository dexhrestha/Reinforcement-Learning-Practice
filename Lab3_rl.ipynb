{
 "cells": [
  {
   "cell_type": "markdown",
   "metadata": {
    "colab_type": "text",
    "id": "WoXYKhfZMHiw"
   },
   "source": [
    "# Model-Free Reinforcement Learning\n",
    "\n",
    "Reinforcement learning (RL) is a subset of machine learning which poses learning problems as interactions between agents and environments. It often assumes agents have no prior knowledge of the given world, so they must learn to navigate environments by optimizing some provided reward function. Within a world, an agent can take certain actions and receive feedback--in the form of positive or negative rewards--with respect to their decision. As such, an agent's feedback loop is somewhat akin to the manner in which a child might learn to distinguish between \"good\" and \"bad\" actions. In practical terms, our RL agent will interact with the environment by taking an action at each timestep, receiving a corresponding reward, and updating its state according to what it's \"learned\".  \n",
    "\n",
    "![alt text](https://www.kdnuggets.com/images/reinforcement-learning-fig1-700.jpg)\n",
    "\n",
    "## Why do we care about games? \n",
    "While the ultimate goal of reinforcement learning is to teach agents to act in the real, physical world, games provide a set of very useful properties that we also care about: \n",
    "\n",
    "1.   In many cases, games have perfectly describable environments. For example, all rules of chess can be formally written and programmed into a chess game simulator;\n",
    "2.   Massively parallelizable. Do not require running in the real world, therefore simultaneous environments can be run on large data clusters; \n",
    "3.   Fast prototyping of algorithms on simpler scenarios can speed up the development of algorithms that could eventually run in the real-world; and\n",
    "4.   ... Games are fun! \n",
    "\n",
    "**Cartpole:   Balance a pole in an upright position by only moving your base left or right. Low-dimensional observation space.**\n",
    "\n"
   ]
  },
  {
   "cell_type": "markdown",
   "metadata": {
    "colab_type": "text",
    "id": "zmrHSiXKTXTY"
   },
   "source": [
    "## Part 1: Cartpole\n",
    "\n",
    "Since we're no longer dealing with a supervised learning task, let's take a step back and outline our approach to the problem. First, we'll need to create our environment and initialize our agent. Moreover, we'll need to provide our agent with some sort of mechanism for remembering action and reward history... in other words, a memory bank. Then we'll need to define our learning algorithm, much like we've done in previous labs.\n",
    "\n",
    "\n",
    "First we'll import TensorFlow, enable Eager execution, and also import some dependencies."
   ]
  },
  {
   "cell_type": "code",
   "execution_count": 0,
   "metadata": {
    "colab": {
     "base_uri": "https://localhost:8080/",
     "height": 207
    },
    "colab_type": "code",
    "id": "UbLzAmn63hu8",
    "outputId": "c0a088ef-4549-4a9d-ba1d-62c342da433b"
   },
   "outputs": [
    {
     "name": "stdout",
     "output_type": "stream",
     "text": [
      "Collecting regex\n",
      "\u001b[?25l  Downloading https://files.pythonhosted.org/packages/fc/1d/13cc7d174cd2d05808abac3f5fb37433e30c4cd93b152d2a9c09c926d7e8/regex-2019.11.1.tar.gz (669kB)\n",
      "\r",
      "\u001b[K     |▌                               | 10kB 19.3MB/s eta 0:00:01\r",
      "\u001b[K     |█                               | 20kB 4.1MB/s eta 0:00:01\r",
      "\u001b[K     |█▌                              | 30kB 5.9MB/s eta 0:00:01\r",
      "\u001b[K     |██                              | 40kB 3.8MB/s eta 0:00:01\r",
      "\u001b[K     |██▌                             | 51kB 4.6MB/s eta 0:00:01\r",
      "\u001b[K     |███                             | 61kB 5.4MB/s eta 0:00:01\r",
      "\u001b[K     |███▍                            | 71kB 6.1MB/s eta 0:00:01\r",
      "\u001b[K     |████                            | 81kB 6.1MB/s eta 0:00:01\r",
      "\u001b[K     |████▍                           | 92kB 6.8MB/s eta 0:00:01\r",
      "\u001b[K     |█████                           | 102kB 6.3MB/s eta 0:00:01\r",
      "\u001b[K     |█████▍                          | 112kB 6.3MB/s eta 0:00:01\r",
      "\u001b[K     |█████▉                          | 122kB 6.3MB/s eta 0:00:01\r",
      "\u001b[K     |██████▍                         | 133kB 6.3MB/s eta 0:00:01\r",
      "\u001b[K     |██████▉                         | 143kB 6.3MB/s eta 0:00:01\r",
      "\u001b[K     |███████▍                        | 153kB 6.3MB/s eta 0:00:01\r",
      "\u001b[K     |███████▉                        | 163kB 6.3MB/s eta 0:00:01\r",
      "\u001b[K     |████████▎                       | 174kB 6.3MB/s eta 0:00:01\r",
      "\u001b[K     |████████▉                       | 184kB 6.3MB/s eta 0:00:01\r",
      "\u001b[K     |█████████▎                      | 194kB 6.3MB/s eta 0:00:01\r",
      "\u001b[K     |█████████▉                      | 204kB 6.3MB/s eta 0:00:01\r",
      "\u001b[K     |██████████▎                     | 215kB 6.3MB/s eta 0:00:01\r",
      "\u001b[K     |██████████▊                     | 225kB 6.3MB/s eta 0:00:01\r",
      "\u001b[K     |███████████▎                    | 235kB 6.3MB/s eta 0:00:01\r",
      "\u001b[K     |███████████▊                    | 245kB 6.3MB/s eta 0:00:01\r",
      "\u001b[K     |████████████▎                   | 256kB 6.3MB/s eta 0:00:01\r",
      "\u001b[K     |████████████▊                   | 266kB 6.3MB/s eta 0:00:01\r",
      "\u001b[K     |█████████████▏                  | 276kB 6.3MB/s eta 0:00:01\r",
      "\u001b[K     |█████████████▊                  | 286kB 6.3MB/s eta 0:00:01\r",
      "\u001b[K     |██████████████▏                 | 296kB 6.3MB/s eta 0:00:01\r",
      "\u001b[K     |██████████████▊                 | 307kB 6.3MB/s eta 0:00:01\r",
      "\u001b[K     |███████████████▏                | 317kB 6.3MB/s eta 0:00:01\r",
      "\u001b[K     |███████████████▋                | 327kB 6.3MB/s eta 0:00:01\r",
      "\u001b[K     |████████████████▏               | 337kB 6.3MB/s eta 0:00:01\r",
      "\u001b[K     |████████████████▋               | 348kB 6.3MB/s eta 0:00:01\r",
      "\u001b[K     |█████████████████▏              | 358kB 6.3MB/s eta 0:00:01\r",
      "\u001b[K     |█████████████████▋              | 368kB 6.3MB/s eta 0:00:01\r",
      "\u001b[K     |██████████████████▏             | 378kB 6.3MB/s eta 0:00:01\r",
      "\u001b[K     |██████████████████▋             | 389kB 6.3MB/s eta 0:00:01\r",
      "\u001b[K     |███████████████████             | 399kB 6.3MB/s eta 0:00:01\r",
      "\u001b[K     |███████████████████▋            | 409kB 6.3MB/s eta 0:00:01\r",
      "\u001b[K     |████████████████████            | 419kB 6.3MB/s eta 0:00:01\r",
      "\u001b[K     |████████████████████▋           | 430kB 6.3MB/s eta 0:00:01\r",
      "\u001b[K     |█████████████████████           | 440kB 6.3MB/s eta 0:00:01\r",
      "\u001b[K     |█████████████████████▌          | 450kB 6.3MB/s eta 0:00:01\r",
      "\u001b[K     |██████████████████████          | 460kB 6.3MB/s eta 0:00:01\r",
      "\u001b[K     |██████████████████████▌         | 471kB 6.3MB/s eta 0:00:01\r",
      "\u001b[K     |███████████████████████         | 481kB 6.3MB/s eta 0:00:01\r",
      "\u001b[K     |███████████████████████▌        | 491kB 6.3MB/s eta 0:00:01\r",
      "\u001b[K     |████████████████████████        | 501kB 6.3MB/s eta 0:00:01\r",
      "\u001b[K     |████████████████████████▌       | 512kB 6.3MB/s eta 0:00:01\r",
      "\u001b[K     |█████████████████████████       | 522kB 6.3MB/s eta 0:00:01\r",
      "\u001b[K     |█████████████████████████▌      | 532kB 6.3MB/s eta 0:00:01\r",
      "\u001b[K     |██████████████████████████      | 542kB 6.3MB/s eta 0:00:01\r",
      "\u001b[K     |██████████████████████████▍     | 552kB 6.3MB/s eta 0:00:01\r",
      "\u001b[K     |███████████████████████████     | 563kB 6.3MB/s eta 0:00:01\r",
      "\u001b[K     |███████████████████████████▍    | 573kB 6.3MB/s eta 0:00:01\r",
      "\u001b[K     |████████████████████████████    | 583kB 6.3MB/s eta 0:00:01\r",
      "\u001b[K     |████████████████████████████▍   | 593kB 6.3MB/s eta 0:00:01\r",
      "\u001b[K     |████████████████████████████▉   | 604kB 6.3MB/s eta 0:00:01\r",
      "\u001b[K     |█████████████████████████████▍  | 614kB 6.3MB/s eta 0:00:01\r",
      "\u001b[K     |█████████████████████████████▉  | 624kB 6.3MB/s eta 0:00:01\r",
      "\u001b[K     |██████████████████████████████▍ | 634kB 6.3MB/s eta 0:00:01\r",
      "\u001b[K     |██████████████████████████████▉ | 645kB 6.3MB/s eta 0:00:01\r",
      "\u001b[K     |███████████████████████████████▎| 655kB 6.3MB/s eta 0:00:01\r",
      "\u001b[K     |███████████████████████████████▉| 665kB 6.3MB/s eta 0:00:01\r",
      "\u001b[K     |████████████████████████████████| 675kB 6.3MB/s \n",
      "\u001b[?25hBuilding wheels for collected packages: regex\n",
      "  Building wheel for regex (setup.py) ... \u001b[?25l\u001b[?25hdone\n",
      "  Created wheel for regex: filename=regex-2019.11.1-cp36-cp36m-linux_x86_64.whl size=609221 sha256=5225c7944b476147c6822d01c4a55c2c80546d4d78f3562d0ce591a2f61213e7\n",
      "  Stored in directory: /root/.cache/pip/wheels/5c/c6/c1/0bc8d16ea38c44536a82dd1bec665996e5af37489fa88826b6\n",
      "Successfully built regex\n",
      "Installing collected packages: regex\n",
      "Successfully installed regex-2019.11.1\n"
     ]
    }
   ],
   "source": [
    "!pip install regex"
   ]
  },
  {
   "cell_type": "code",
   "execution_count": 0,
   "metadata": {
    "colab": {},
    "colab_type": "code",
    "id": "xk5qeNPWCm00"
   },
   "outputs": [],
   "source": [
    "import tensorflow as tf\n",
    "tf.enable_eager_execution()\n",
    "\n",
    "import gym\n",
    "import numpy as np\n",
    "import matplotlib.pyplot as plt\n",
    "from IPython import display as ipythondisplay\n",
    "import time\n",
    "\n",
    "import util as util"
   ]
  },
  {
   "cell_type": "markdown",
   "metadata": {
    "colab_type": "text",
    "id": "UT7YL8KBJIIc"
   },
   "source": [
    "### 1.1 Define and inspect the environment\n",
    "\n",
    "In order to model our environment, we'll be using a toolkit developed by OpenAI, [OpenAI Gym](https://gym.openai.com/). It provides several pre-defined environments for training and testing reinforcement learning agents, including those for classic physics control tasks, Atari video games, and robotic simulations. To access the basic version of a control task, \"Cart Pole\", we can use `env = gym.make(\"CartPole-v0\")`. When we imported `gym`, we gained access to higher level functions in the package, including creating virtual worlds. Each environment has a specific identifier (for which you can read through [here](https://gym.openai.com/envs/#classic_control)) which is accessed by passing the environment name as a string variable.\n",
    "One issue we might experience when developing RL algorithms is that many aspects of the learning process are inherently random: initializing game states, changes in the environment, and the agent's actions. As such, it can be helpful to set a random \"seed\" for one of these variables to ensure some level of reproducibility. Much like you might use `numpy.random.seed`, we can call the comparable function in gym, `seed`, with our defined environment to ensure the environment's random variables are initialized the same each time. "
   ]
  },
  {
   "cell_type": "code",
   "execution_count": 0,
   "metadata": {
    "colab": {
     "base_uri": "https://localhost:8080/",
     "height": 34
    },
    "colab_type": "code",
    "id": "quv9SC0iIYFm",
    "outputId": "2de453b7-2631-45ba-dc39-a724249360d4"
   },
   "outputs": [
    {
     "data": {
      "text/plain": [
       "[1]"
      ]
     },
     "execution_count": 5,
     "metadata": {
      "tags": []
     },
     "output_type": "execute_result"
    }
   ],
   "source": [
    "env = gym.make(\"CartPole-v0\")\n",
    "env.seed(1) # reproducible, since RL has high variance"
   ]
  },
  {
   "cell_type": "markdown",
   "metadata": {
    "colab_type": "text",
    "id": "mhEITUcKK455"
   },
   "source": [
    "\n",
    "**CartPole Environment: ** \n",
    "\n",
    "A pole is attached by an un-actuated joint to a cart, which moves along a frictionless track. The system is controlled by applying a force of +1 or -1 to the cart. The pendulum starts upright, and the goal is to prevent it from falling over. A reward of +1 is provided for every timestep that the pole remains upright. The episode ends when the pole is more than 15 degrees from vertical, or the cart moves more than 2.4 units from the center.\n",
    "\n",
    "<img width=\"400px\" src=\"https://danielpiedrahita.files.wordpress.com/2017/02/cart-pole.png\"></img>\n",
    "\n",
    "Observations:\n",
    "\n",
    "1. position of cart\n",
    "2. velocity of cart\n",
    "3. angle of pole\n",
    "4. rotation rate of pole\n",
    "\n",
    "We can confirm the size of the space by querying the observation space:\n"
   ]
  },
  {
   "cell_type": "code",
   "execution_count": 0,
   "metadata": {
    "colab": {
     "base_uri": "https://localhost:8080/",
     "height": 34
    },
    "colab_type": "code",
    "id": "UVJaEcbdIX82",
    "outputId": "999dbe38-687f-4790-bf38-b43d73e9d1cf"
   },
   "outputs": [
    {
     "name": "stdout",
     "output_type": "stream",
     "text": [
      "Enviornment has observation space = Box(4,)\n"
     ]
    }
   ],
   "source": [
    "print (\"Enviornment has observation space = {}\".format(env.observation_space))"
   ]
  },
  {
   "cell_type": "markdown",
   "metadata": {
    "colab_type": "text",
    "id": "ZibGgjrALgPM"
   },
   "source": [
    "At every time step, the agent can move either right or left. Confirm the size of the action space by querying the environment:"
   ]
  },
  {
   "cell_type": "code",
   "execution_count": 0,
   "metadata": {
    "colab": {
     "base_uri": "https://localhost:8080/",
     "height": 34
    },
    "colab_type": "code",
    "id": "qc9SIPxBIXrm",
    "outputId": "3e0c47ac-d8db-4514-ca9e-4784182d2e9b"
   },
   "outputs": [
    {
     "name": "stdout",
     "output_type": "stream",
     "text": [
      "Number of possible actions that the agent can choose from = 2\n"
     ]
    }
   ],
   "source": [
    "n_actions = env.action_space.n\n",
    "print (\"Number of possible actions that the agent can choose from = {}\".format(n_actions))"
   ]
  },
  {
   "cell_type": "markdown",
   "metadata": {
    "colab_type": "text",
    "id": "pPfHME8aRKkb"
   },
   "source": [
    "### 1.2 Define the Agent\n",
    "\n",
    "Let's define our agent, which is simply a deep neural network which takes as input an observation of the enviornment and outputs the probability of taking each of the possible actions. \n"
   ]
  },
  {
   "cell_type": "code",
   "execution_count": 0,
   "metadata": {
    "colab": {},
    "colab_type": "code",
    "id": "W-o_XK4oQ4eu"
   },
   "outputs": [],
   "source": [
    "def create_cartpole_model():\n",
    "  model = tf.keras.models.Sequential([\n",
    "      tf.keras.layers.Dense(units=32, activation='relu'),\n",
    "      # TODO: define the output dimension of the last Dense layer\n",
    "      # Hint: think about that the space the agent needs to act in\n",
    "      tf.keras.layers.Dense(units=n_actions, activation=None) # TODO\n",
    "  ])\n",
    "  return model\n",
    "\n",
    "cartpole_model = create_cartpole_model()\n",
    "# cartpole_model.summary()"
   ]
  },
  {
   "cell_type": "markdown",
   "metadata": {
    "colab_type": "text",
    "id": "d5D5NSIYS2IW"
   },
   "source": [
    "Define the action function that executes a forward pass through the network and samples from the output. Take special note of the output activation of the model."
   ]
  },
  {
   "cell_type": "code",
   "execution_count": 0,
   "metadata": {
    "colab": {},
    "colab_type": "code",
    "id": "E_vVZRr8Q4R_"
   },
   "outputs": [],
   "source": [
    "def choose_action(model, observation):\n",
    "    \n",
    "  observation = observation.reshape([1, -1])\n",
    "  '''TODO: feed the observations through the model to predict the log probabilities of each possible action.'''\n",
    "  logits = model.predict(observation)\n",
    "  \n",
    "  # pass the log probabilities through a softmax to compute true probabilities\n",
    "  prob_weights = tf.nn.softmax(logits).numpy()\n",
    "#   '''TODO: randomly sample from the prob_weights to pick an action.\n",
    "#   Hint: carefully consider the dimensionality of the input probabilities (vector) and the output action (scalar)'''\n",
    "  action = np.random.choice(n_actions,p=prob_weights.flatten(),size=1)\n",
    "\n",
    "  return action"
   ]
  },
  {
   "cell_type": "code",
   "execution_count": 0,
   "metadata": {
    "colab": {
     "base_uri": "https://localhost:8080/",
     "height": 34
    },
    "colab_type": "code",
    "id": "SM1-Z9GEeDXR",
    "outputId": "20eb7a4b-cccb-4fd3-e9b0-63eabbeafe98"
   },
   "outputs": [
    {
     "data": {
      "text/plain": [
       "(2,)"
      ]
     },
     "execution_count": 10,
     "metadata": {
      "tags": []
     },
     "output_type": "execute_result"
    }
   ],
   "source": [
    "np.asarray([1,2]).shape"
   ]
  },
  {
   "cell_type": "markdown",
   "metadata": {
    "colab_type": "text",
    "id": "_tR9uAWcTnkr"
   },
   "source": [
    "### 1.3 Create the agent's memory\n",
    "\n",
    "During training, the agent will need to remember all of its observations, actions so that once the episode ends, it can \"reinforce\" the good actions and punish the undesirable actions. Let's do this by defining a simple memory buffer that contains the agent's observations, actions, and received rewards from a given episode. "
   ]
  },
  {
   "cell_type": "code",
   "execution_count": 0,
   "metadata": {
    "colab": {},
    "colab_type": "code",
    "id": "8MM6JwXVQ4JG"
   },
   "outputs": [],
   "source": [
    "class Memory:\n",
    "  def __init__(self): \n",
    "      self.clear()\n",
    "\n",
    "  def clear(self): \n",
    "      self.observations = []\n",
    "      self.actions = []\n",
    "      self.rewards = []\n",
    "\n",
    "  def add_to_memory(self, new_observation, new_action, new_reward): \n",
    "      self.observations.append(new_observation)\n",
    "#       '''TODO: update the list of actions with new action'''\n",
    "      # TODO\n",
    "      self.actions.append(new_action)\n",
    "#       '''TODO: update the list of rewards with new reward'''\n",
    "      # TODO\n",
    "      self.rewards.append(new_reward)\n",
    "        \n",
    "memory = Memory()"
   ]
  },
  {
   "cell_type": "markdown",
   "metadata": {
    "colab_type": "text",
    "id": "D4YhtPaUVj5m"
   },
   "source": [
    "We're almost ready to begin the learning algorithm for our agent! The final step is to compute the discounted rewards of our agent. Recall from lecture, we use reward discount to give more preference at getting rewards now rather than later in the future. The idea of discounting rewards is similar to discounting money in the case of interest and can be defined as: \n",
    "\n",
    ">$R_{t}=\\sum_{k=0}^\\infty\\gamma^kr_{t+k}$\n",
    "\n",
    "where  $\\gamma$ is the discount factor. In other words, at the end of an episode, we'll want to depreciate any rewards received at later time steps. Since we can't play an infinite number of games, we'll be limited to the number of timesteps in an episode. When implementing the function, you can initialize a numpy array of zeros (with length of the number of time steps) and fill it with the real discounted reward values as you loop through the saved rewards from the episode. We'll also want to normalize our output, which you can do using information about the mean and standard deviation of the discounted rewards.\n"
   ]
  },
  {
   "cell_type": "code",
   "execution_count": 0,
   "metadata": {
    "colab": {},
    "colab_type": "code",
    "id": "5_Q2OFYtQ32X"
   },
   "outputs": [],
   "source": [
    "def normalize(x):\n",
    "  x -= np.mean(x)\n",
    "  x /= np.std(x)\n",
    "  return x\n",
    "\n",
    "def discount_rewards(rewards, gamma=0.95): \n",
    "  discounted_rewards = np.zeros_like(rewards)\n",
    "  R = 0\n",
    "  for t in reversed(range(0, len(rewards))):\n",
    "      # update the total discounted reward\n",
    "      R = R * gamma + rewards[t]\n",
    "      discounted_rewards[t] = R\n",
    "      \n",
    "  return normalize(discounted_rewards)"
   ]
  },
  {
   "cell_type": "markdown",
   "metadata": {
    "colab_type": "text",
    "id": "QzbY-mjGYcmt"
   },
   "source": [
    "### 1.4 Define the learning algorithm\n",
    "\n",
    "Now we can start to define the learing algorithm which will be used to reinforce good behaviors of the agent and discourage bad behaviours. Start by defining the optimizer we want to use."
   ]
  },
  {
   "cell_type": "code",
   "execution_count": 0,
   "metadata": {
    "colab": {},
    "colab_type": "code",
    "id": "m3u6xDNMY0zg"
   },
   "outputs": [],
   "source": [
    "learning_rate = 1e-3\n",
    "optimizer = tf.train.AdamOptimizer(learning_rate)"
   ]
  },
  {
   "cell_type": "markdown",
   "metadata": {
    "colab_type": "text",
    "id": "M-LJwWqTZegG"
   },
   "source": [
    "And now let's define the loss function. In this lab we are focusing on policy gradient methods which aim to **maximize** the likelihood of actions that result in large rewards. Equivalently, this means that we want to **minimize** the negative likelihood of these same actions. Like in supervised learning, we can use stochastic gradient descent methods to achieve this minimization. \n",
    "\n",
    "Since the log function is monotonically increasing, this means that minimizing negative **likelihood** is equivalent to minimizing negative **log-likelihood**.  Recall that we can easily compute the negative log-likelihood of an discrete action by evaluting its softmax cross entropy (https://www.tensorflow.org/api_docs/python/tf/nn/sparse_softmax_cross_entropy_with_logits) "
   ]
  },
  {
   "cell_type": "code",
   "execution_count": 0,
   "metadata": {
    "colab": {},
    "colab_type": "code",
    "id": "fsgZ3IDCY_Zn"
   },
   "outputs": [],
   "source": [
    "def compute_loss(logits, actions, rewards): \n",
    "  '''TODO: complete the call to compute the loss'''\n",
    "  neg_logprob = tf.nn.sparse_softmax_cross_entropy_with_logits(logits=logits,labels=actions) # TODO\n",
    "  '''TODO: scale the negative log probability by the rewards'''\n",
    "  loss = tf.reduce_mean(neg_logprob*rewards) # TODO\n",
    "  return loss"
   ]
  },
  {
   "cell_type": "markdown",
   "metadata": {
    "colab_type": "text",
    "id": "Rr5vQ9fqbPpp"
   },
   "source": [
    "Now let's use the loss function to define a backpropogation step of our learning algorithm."
   ]
  },
  {
   "cell_type": "code",
   "execution_count": 0,
   "metadata": {
    "colab": {},
    "colab_type": "code",
    "id": "_50ada7nbZ7L"
   },
   "outputs": [],
   "source": [
    "def train_step(model, optimizer, observations, actions, discounted_rewards):\n",
    "  with tf.GradientTape() as tape:\n",
    "      # Forward propogate through the agent\n",
    "      observations = tf.convert_to_tensor(observations, dtype=tf.float32)    \n",
    "      logits = model(observations)\n",
    "\n",
    "      '''TODO: call the compute_loss function to compute the loss'''\n",
    "      loss = compute_loss(logits,actions,discounted_rewards)\n",
    "\n",
    "  '''TODO: run backpropagation using the tape.gradient method'''\n",
    "  grads = tape.gradient(loss,model.variables) # TODO\n",
    "  optimizer.apply_gradients(zip(grads, model.variables), global_step=tf.train.get_or_create_global_step())"
   ]
  },
  {
   "cell_type": "markdown",
   "metadata": {
    "colab_type": "text",
    "id": "XsjKXh6BcgjR"
   },
   "source": [
    "### 1.5 Let the agent go and watch it learn from scratch!\n",
    "\n",
    "Having had no prior knowledge of the environment, the agent will begin to learn how to balance the pole on the cart based only on the feedback received from the environment! Having defined how our agent can move, how it takes in new observations, and how it updates its state, we'll see how it gradually learns a policy of actions to optimize balancing the pole as long as possible.\n",
    "\n"
   ]
  },
  {
   "cell_type": "code",
   "execution_count": 0,
   "metadata": {
    "colab": {
     "base_uri": "https://localhost:8080/",
     "height": 543
    },
    "colab_type": "code",
    "id": "XmOzc2rrcn8Q",
    "outputId": "fdcc2e03-a108-4a9c-85f2-f23657552a65"
   },
   "outputs": [
    {
     "data": {
      "image/png": "[encoded data removed]",
      "text/plain": [
       "<Figure size 432x288 with 1 Axes>"
      ]
     },
     "metadata": {
      "tags": []
     },
     "output_type": "display_data"
    },
    {
     "data": {
      "image/png": "[encoded data removed]",
      "text/plain": [
       "<Figure size 432x288 with 1 Axes>"
      ]
     },
     "metadata": {
      "tags": []
     },
     "output_type": "display_data"
    }
   ],
   "source": [
    "cartpole_model = create_cartpole_model()\n",
    "\n",
    "smoothed_reward = util.LossHistory(smoothing_factor=0.9)\n",
    "plotter = util.PeriodicPlotter(sec=5, xlabel='Iterations', ylabel='Rewards')\n",
    "\n",
    "\n",
    "for i_episode in range(1000):\n",
    "\n",
    "  plotter.plot(smoothed_reward.get())\n",
    "\n",
    "  # Restart the environment\n",
    "  observation = env.reset()\n",
    "\n",
    "  while True:\n",
    "      # using our observation, take an action\n",
    "      action = choose_action(cartpole_model, observation)[0]\n",
    "      next_observation, reward, done, info = env.step(action)\n",
    "      # add to memory\n",
    "      memory.add_to_memory(observation, action, reward)\n",
    "      \n",
    "      # is the episode over? did you crash or do so well that you're done?\n",
    "      if done:\n",
    "          # determine total reward and keep a record of this\n",
    "          total_reward = sum(memory.rewards)\n",
    "          smoothed_reward.append( total_reward )\n",
    "          \n",
    "          # initiate training - remember we don't know anything about how the agent is doing until it's crashed!\n",
    "          train_step(cartpole_model, \n",
    "                     optimizer, \n",
    "                     observations = np.vstack(memory.observations),\n",
    "                     actions = np.array(memory.actions),\n",
    "                     discounted_rewards = discount_rewards(memory.rewards)\n",
    "                    )\n",
    "          \n",
    "          memory.clear()\n",
    "          break\n",
    "      # update our observatons\n",
    "      observation = next_observation"
   ]
  },
  {
   "cell_type": "markdown",
   "metadata": {
    "colab_type": "text",
    "id": "mkcUtGF1VE-K"
   },
   "source": [
    "### 1.6 Save a video of the trained model while it is balancing the pole"
   ]
  },
  {
   "cell_type": "code",
   "execution_count": 0,
   "metadata": {
    "colab": {
     "base_uri": "https://localhost:8080/",
     "height": 581
    },
    "colab_type": "code",
    "id": "KEMNUhCE7cN2",
    "outputId": "b8131476-e002-4440-8972-8adf398006cd"
   },
   "outputs": [
    {
     "name": "stdout",
     "output_type": "stream",
     "text": [
      "Requirement already satisfied: scikit-video in /usr/local/lib/python3.6/dist-packages (1.1.11)\n",
      "Requirement already satisfied: scipy in /usr/local/lib/python3.6/dist-packages (from scikit-video) (1.3.1)\n",
      "Requirement already satisfied: pillow in /usr/local/lib/python3.6/dist-packages (from scikit-video) (4.3.0)\n",
      "Requirement already satisfied: numpy in /usr/local/lib/python3.6/dist-packages (from scikit-video) (1.17.3)\n",
      "Requirement already satisfied: olefile in /usr/local/lib/python3.6/dist-packages (from pillow->scikit-video) (0.46)\n",
      "Requirement already satisfied: pyvirtualdisplay in /usr/local/lib/python3.6/dist-packages (0.2.4)\n",
      "Requirement already satisfied: EasyProcess in /usr/local/lib/python3.6/dist-packages (from pyvirtualdisplay) (0.2.7)\n",
      "Reading package lists... Done\n",
      "Building dependency tree       \n",
      "Reading state information... Done\n",
      "The following NEW packages will be installed:\n",
      "  xvfb\n",
      "0 upgraded, 1 newly installed, 0 to remove and 28 not upgraded.\n",
      "Need to get 783 kB of archives.\n",
      "After this operation, 2,266 kB of additional disk space will be used.\n",
      "Get:1 http://archive.ubuntu.com/ubuntu bionic-updates/universe amd64 xvfb amd64 2:1.19.6-1ubuntu4.3 [783 kB]\n",
      "Fetched 783 kB in 0s (8,154 kB/s)\n",
      "debconf: unable to initialize frontend: Dialog\n",
      "debconf: (No usable dialog-like program is installed, so the dialog based frontend cannot be used. at /usr/share/perl5/Debconf/FrontEnd/Dialog.pm line 76, <> line 1.)\n",
      "debconf: falling back to frontend: Readline\n",
      "debconf: unable to initialize frontend: Readline\n",
      "debconf: (This frontend requires a controlling tty.)\n",
      "debconf: falling back to frontend: Teletype\n",
      "dpkg-preconfigure: unable to re-open stdin: \n",
      "Selecting previously unselected package xvfb.\n",
      "(Reading database ... 132681 files and directories currently installed.)\n",
      "Preparing to unpack .../xvfb_2%3a1.19.6-1ubuntu4.3_amd64.deb ...\n",
      "Unpacking xvfb (2:1.19.6-1ubuntu4.3) ...\n",
      "Setting up xvfb (2:1.19.6-1ubuntu4.3) ...\n",
      "Processing triggers for man-db (2.8.3-2ubuntu0.1) ...\n"
     ]
    },
    {
     "name": "stderr",
     "output_type": "stream",
     "text": [
      "xdpyinfo was not found, X start can not be checked! Please install xdpyinfo!\n"
     ]
    },
    {
     "name": "stdout",
     "output_type": "stream",
     "text": [
      "Successfully saved into agent.mp4!\n"
     ]
    }
   ],
   "source": [
    "!pip install scikit-video\n",
    "!pip install pyvirtualdisplay \n",
    "!sudo apt-get install xvfb\n",
    "\n",
    "def save_video_of_model(model, env_name, filename='agent.mp4'):  \n",
    "  import skvideo.io\n",
    "  from pyvirtualdisplay import Display\n",
    "  display = Display(visible=0, size=(40, 30))\n",
    "  display.start()\n",
    "\n",
    "  env = gym.make(env_name)\n",
    "  obs = env.reset()\n",
    "  shape = env.render(mode='rgb_array').shape[0:2]\n",
    "\n",
    "  out = skvideo.io.FFmpegWriter(filename)\n",
    "\n",
    "  done = False\n",
    "  while not done: \n",
    "      frame = env.render(mode='rgb_array')\n",
    "      out.writeFrame(frame)\n",
    "      \n",
    "      action = model(tf.convert_to_tensor(obs.reshape((1,-1)), tf.float32)).numpy().argmax()\n",
    "      obs, reward, done, info = env.step(action)\n",
    "  out.close()\n",
    "  print (\"Successfully saved into {}!\".format(filename))\n",
    "\n",
    "save_video_of_model(cartpole_model, \"CartPole-v0\")"
   ]
  },
  {
   "cell_type": "code",
   "execution_count": 1,
   "metadata": {
    "colab": {
     "base_uri": "https://localhost:8080/",
     "height": 421
    },
    "colab_type": "code",
    "id": "DBjhWQ0XwQ1d",
    "outputId": "322a014c-e37c-4820-b4b3-8a3ce2da931c",
    "scrolled": true
   },
   "outputs": [
    {
     "data": {
      "text/html": [
       "\n",
       "<video controls>\n",
       "    <source src=\"data:video/mp4;base64,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\" type=\"video/mp4\" />\n",
       "</video>"
      ],
      "text/plain": [
       "<IPython.core.display.HTML object>"
      ]
     },
     "execution_count": 1,
     "metadata": {},
     "output_type": "execute_result"
    }
   ],
   "source": [
    "from IPython.display import HTML\n",
    "import io, base64\n",
    "video = io.open('./agent.mp4', 'r+b').read()\n",
    "encoded = base64.b64encode(video)\n",
    "HTML(data='''\n",
    "<video controls>\n",
    "    <source src=\"data:video/mp4;base64,{0}\" type=\"video/mp4\" />\n",
    "</video>'''.format(encoded.decode('ascii')))"
   ]
  },
  {
   "cell_type": "code",
   "execution_count": null,
   "metadata": {},
   "outputs": [],
   "source": []
  }
 ],
 "metadata": {
  "accelerator": "GPU",
  "colab": {
   "collapsed_sections": [],
   "name": "Lab3_rl.ipynb",
   "provenance": []
  },
  "kernelspec": {
   "display_name": "Python 3",
   "language": "python",
   "name": "python3"
  },
  "language_info": {
   "codemirror_mode": {
    "name": "ipython",
    "version": 3
   },
   "file_extension": ".py",
   "mimetype": "text/x-python",
   "name": "python",
   "nbconvert_exporter": "python",
   "pygments_lexer": "ipython3",
   "version": "3.6.4"
  }
 },
 "nbformat": 4,
 "nbformat_minor": 1
}
